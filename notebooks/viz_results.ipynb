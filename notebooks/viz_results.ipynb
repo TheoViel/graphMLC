{
 "cells": [
  {
   "cell_type": "code",
   "execution_count": 31,
   "metadata": {},
   "outputs": [
    {
     "name": "stdout",
     "output_type": "stream",
     "text": [
      "The autoreload extension is already loaded. To reload it, use:\n",
      "  %reload_ext autoreload\n"
     ]
    }
   ],
   "source": [
    "%load_ext autoreload\n",
    "%autoreload 2"
   ]
  },
  {
   "cell_type": "code",
   "execution_count": 32,
   "metadata": {
    "scrolled": true
   },
   "outputs": [
    {
     "name": "stdout",
     "output_type": "stream",
     "text": [
      "/home/theo/MVA/graph_mlc/src\n"
     ]
    }
   ],
   "source": [
    "cd ../src"
   ]
  },
  {
   "cell_type": "code",
   "execution_count": 33,
   "metadata": {},
   "outputs": [],
   "source": [
    "from util import *\n",
    "from params import *\n",
    "from imports import *\n",
    "\n",
    "from data.dataset import *\n",
    "from data.transforms import *"
   ]
  },
  {
   "cell_type": "code",
   "execution_count": 42,
   "metadata": {},
   "outputs": [
    {
     "data": {
      "text/plain": [
       "['A_out.npy',\n",
       " 'aps_ssgrl_resnet34_576.npy',\n",
       " 'preds.txt',\n",
       " 'mlgcn_A.npy',\n",
       " 'aps_mlgcn_resnet34_576.npy',\n",
       " 'aps_baseline_resnet34_576.npy',\n",
       " 'aps_ggnn_resnet34_576.npy',\n",
       " 'A_in.npy']"
      ]
     },
     "execution_count": 42,
     "metadata": {},
     "output_type": "execute_result"
    }
   ],
   "source": [
    "pd.set_option('display.max_columns', 30)\n",
    "os.listdir('../output/')"
   ]
  },
  {
   "cell_type": "code",
   "execution_count": 35,
   "metadata": {},
   "outputs": [],
   "source": [
    "ssgrl = np.load('../output/aps_ssgrl_resnet34_576.npy')\n",
    "mlgcn = np.load('../output/aps_mlgcn_resnet34_576.npy')\n",
    "ggnn = np.load('../output/aps_ggnn_resnet34_576.npy')\n",
    "baseline = np.load('../output/aps_baseline_resnet34_576.npy')"
   ]
  },
  {
   "cell_type": "code",
   "execution_count": 46,
   "metadata": {},
   "outputs": [],
   "source": [
    "scores = {\n",
    "    'baseline': baseline,\n",
    "    'ggnn': ggnn,\n",
    "    'ssgrl' : ssgrl,\n",
    "    'mlgcn': mlgcn,\n",
    "}"
   ]
  },
  {
   "cell_type": "code",
   "execution_count": 47,
   "metadata": {},
   "outputs": [],
   "source": [
    "cols = ['plane', 'bike', 'bird', 'boat', 'bottle', 'bus', 'car', 'cat', 'chair', 'cow', 'table', 'dog', \n",
    "        'horse', 'moto.', 'person', 'plant', 'sheep', 'sofa', 'train', 'tv']"
   ]
  },
  {
   "cell_type": "code",
   "execution_count": 48,
   "metadata": {},
   "outputs": [],
   "source": [
    "df = pd.DataFrame.from_dict(scores, orient='index', columns=cols)"
   ]
  },
  {
   "cell_type": "code",
   "execution_count": 49,
   "metadata": {},
   "outputs": [],
   "source": [
    "df['mAP'] = np.mean(df, axis=1)"
   ]
  },
  {
   "cell_type": "code",
   "execution_count": 50,
   "metadata": {},
   "outputs": [
    {
     "data": {
      "text/html": [
       "<div>\n",
       "<style scoped>\n",
       "    .dataframe tbody tr th:only-of-type {\n",
       "        vertical-align: middle;\n",
       "    }\n",
       "\n",
       "    .dataframe tbody tr th {\n",
       "        vertical-align: top;\n",
       "    }\n",
       "\n",
       "    .dataframe thead th {\n",
       "        text-align: right;\n",
       "    }\n",
       "</style>\n",
       "<table border=\"1\" class=\"dataframe\">\n",
       "  <thead>\n",
       "    <tr style=\"text-align: right;\">\n",
       "      <th></th>\n",
       "      <th>plane</th>\n",
       "      <th>bike</th>\n",
       "      <th>bird</th>\n",
       "      <th>boat</th>\n",
       "      <th>bottle</th>\n",
       "      <th>bus</th>\n",
       "      <th>car</th>\n",
       "      <th>cat</th>\n",
       "      <th>chair</th>\n",
       "      <th>cow</th>\n",
       "      <th>table</th>\n",
       "      <th>dog</th>\n",
       "      <th>horse</th>\n",
       "      <th>moto.</th>\n",
       "      <th>person</th>\n",
       "      <th>plant</th>\n",
       "      <th>sheep</th>\n",
       "      <th>sofa</th>\n",
       "      <th>train</th>\n",
       "      <th>tv</th>\n",
       "      <th>mAP</th>\n",
       "    </tr>\n",
       "  </thead>\n",
       "  <tbody>\n",
       "    <tr>\n",
       "      <td>baseline</td>\n",
       "      <td>98.6</td>\n",
       "      <td>95.4</td>\n",
       "      <td>96.2</td>\n",
       "      <td>95.3</td>\n",
       "      <td>70.3</td>\n",
       "      <td>89.8</td>\n",
       "      <td>94.6</td>\n",
       "      <td>95.8</td>\n",
       "      <td>78.7</td>\n",
       "      <td>88.5</td>\n",
       "      <td>81.4</td>\n",
       "      <td>94.6</td>\n",
       "      <td>96.3</td>\n",
       "      <td>93.1</td>\n",
       "      <td>98.2</td>\n",
       "      <td>76.9</td>\n",
       "      <td>90.8</td>\n",
       "      <td>78.6</td>\n",
       "      <td>98.2</td>\n",
       "      <td>89.7</td>\n",
       "      <td>90.0</td>\n",
       "    </tr>\n",
       "    <tr>\n",
       "      <td>ggnn</td>\n",
       "      <td>99.5</td>\n",
       "      <td>95.9</td>\n",
       "      <td>97.5</td>\n",
       "      <td>97.2</td>\n",
       "      <td>76.3</td>\n",
       "      <td>93.0</td>\n",
       "      <td>95.9</td>\n",
       "      <td>97.0</td>\n",
       "      <td>81.1</td>\n",
       "      <td>94.3</td>\n",
       "      <td>82.3</td>\n",
       "      <td>96.3</td>\n",
       "      <td>97.6</td>\n",
       "      <td>94.4</td>\n",
       "      <td>98.5</td>\n",
       "      <td>80.0</td>\n",
       "      <td>96.1</td>\n",
       "      <td>78.8</td>\n",
       "      <td>98.5</td>\n",
       "      <td>92.4</td>\n",
       "      <td>92.1</td>\n",
       "    </tr>\n",
       "    <tr>\n",
       "      <td>ssgrl</td>\n",
       "      <td>98.9</td>\n",
       "      <td>96.7</td>\n",
       "      <td>97.1</td>\n",
       "      <td>96.1</td>\n",
       "      <td>74.8</td>\n",
       "      <td>92.5</td>\n",
       "      <td>95.8</td>\n",
       "      <td>96.4</td>\n",
       "      <td>79.5</td>\n",
       "      <td>94.5</td>\n",
       "      <td>81.8</td>\n",
       "      <td>96.5</td>\n",
       "      <td>96.6</td>\n",
       "      <td>94.0</td>\n",
       "      <td>98.5</td>\n",
       "      <td>80.9</td>\n",
       "      <td>92.4</td>\n",
       "      <td>80.0</td>\n",
       "      <td>97.7</td>\n",
       "      <td>90.4</td>\n",
       "      <td>91.5</td>\n",
       "    </tr>\n",
       "    <tr>\n",
       "      <td>mlgcn</td>\n",
       "      <td>98.5</td>\n",
       "      <td>95.9</td>\n",
       "      <td>97.2</td>\n",
       "      <td>95.7</td>\n",
       "      <td>74.8</td>\n",
       "      <td>91.4</td>\n",
       "      <td>95.2</td>\n",
       "      <td>97.0</td>\n",
       "      <td>78.7</td>\n",
       "      <td>92.2</td>\n",
       "      <td>82.4</td>\n",
       "      <td>96.3</td>\n",
       "      <td>96.4</td>\n",
       "      <td>93.3</td>\n",
       "      <td>98.5</td>\n",
       "      <td>80.4</td>\n",
       "      <td>93.1</td>\n",
       "      <td>78.9</td>\n",
       "      <td>98.1</td>\n",
       "      <td>91.6</td>\n",
       "      <td>91.3</td>\n",
       "    </tr>\n",
       "  </tbody>\n",
       "</table>\n",
       "</div>"
      ],
      "text/plain": [
       "          plane  bike  bird  boat  bottle   bus   car   cat  chair   cow  \\\n",
       "baseline   98.6  95.4  96.2  95.3    70.3  89.8  94.6  95.8   78.7  88.5   \n",
       "ggnn       99.5  95.9  97.5  97.2    76.3  93.0  95.9  97.0   81.1  94.3   \n",
       "ssgrl      98.9  96.7  97.1  96.1    74.8  92.5  95.8  96.4   79.5  94.5   \n",
       "mlgcn      98.5  95.9  97.2  95.7    74.8  91.4  95.2  97.0   78.7  92.2   \n",
       "\n",
       "          table   dog  horse  moto.  person  plant  sheep  sofa  train    tv  \\\n",
       "baseline   81.4  94.6   96.3   93.1    98.2   76.9   90.8  78.6   98.2  89.7   \n",
       "ggnn       82.3  96.3   97.6   94.4    98.5   80.0   96.1  78.8   98.5  92.4   \n",
       "ssgrl      81.8  96.5   96.6   94.0    98.5   80.9   92.4  80.0   97.7  90.4   \n",
       "mlgcn      82.4  96.3   96.4   93.3    98.5   80.4   93.1  78.9   98.1  91.6   \n",
       "\n",
       "           mAP  \n",
       "baseline  90.0  \n",
       "ggnn      92.1  \n",
       "ssgrl     91.5  \n",
       "mlgcn     91.3  "
      ]
     },
     "execution_count": 50,
     "metadata": {},
     "output_type": "execute_result"
    }
   ],
   "source": [
    "(df * 100).round(1)"
   ]
  }
 ],
 "metadata": {
  "kernelspec": {
   "display_name": "Python 3",
   "language": "python",
   "name": "python3"
  },
  "language_info": {
   "codemirror_mode": {
    "name": "ipython",
    "version": 3
   },
   "file_extension": ".py",
   "mimetype": "text/x-python",
   "name": "python",
   "nbconvert_exporter": "python",
   "pygments_lexer": "ipython3",
   "version": "3.6.8"
  }
 },
 "nbformat": 4,
 "nbformat_minor": 2
}
